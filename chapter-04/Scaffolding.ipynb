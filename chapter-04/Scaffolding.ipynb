{
 "cells": [
  {
   "cell_type": "markdown",
   "metadata": {},
   "source": [
    "# Tensorflow Code Scaffolding for building simple models"
   ]
  },
  {
   "cell_type": "code",
   "execution_count": 1,
   "metadata": {},
   "outputs": [],
   "source": [
    "# Import modules\n",
    "import tensorflow as tf"
   ]
  },
  {
   "cell_type": "code",
   "execution_count": 2,
   "metadata": {},
   "outputs": [],
   "source": [
    "# Initialize variable/model parameters"
   ]
  },
  {
   "cell_type": "code",
   "execution_count": 3,
   "metadata": {},
   "outputs": [],
   "source": [
    "# define the training loop operations"
   ]
  },
  {
   "cell_type": "code",
   "execution_count": 5,
   "metadata": {},
   "outputs": [],
   "source": [
    "def inference(X):\n",
    "    \"\"\"\n",
    "    Computes inference model over data X and \n",
    "    returns the result\n",
    "    \"\"\"\n",
    "    pass"
   ]
  },
  {
   "cell_type": "code",
   "execution_count": 6,
   "metadata": {},
   "outputs": [],
   "source": [
    "def loss(X,y):\n",
    "    \"\"\"\n",
    "    Computes loss over training data X and\n",
    "    expected value y\n",
    "    \"\"\"\n",
    "    pass"
   ]
  },
  {
   "cell_type": "code",
   "execution_count": 7,
   "metadata": {},
   "outputs": [],
   "source": [
    "def inputs():\n",
    "    \"\"\"\n",
    "    Read/generate input training data X and\n",
    "    expected value y\n",
    "    \"\"\"\n",
    "    pass"
   ]
  },
  {
   "cell_type": "code",
   "execution_count": 8,
   "metadata": {},
   "outputs": [],
   "source": [
    "def train(total_loss):\n",
    "    \"\"\"\n",
    "    Train/adjust model parameters according to computed\n",
    "    total loss\n",
    "    \"\"\"\n",
    "    pass"
   ]
  },
  {
   "cell_type": "code",
   "execution_count": 17,
   "metadata": {},
   "outputs": [],
   "source": [
    "# Create a saver\n",
    "saver = tf.train.Saver()"
   ]
  },
  {
   "cell_type": "code",
   "execution_count": 20,
   "metadata": {},
   "outputs": [],
   "source": [
    "# Launch the graph in a session\n",
    "with tf.Session() as sess:\n",
    "    \n",
    "    # model setup\n",
    "    initial_step=0\n",
    "    \n",
    "    # verify if we don't have a checkpoint\n",
    "    # saved already\n",
    "    checkpoint = tf.train.get_checkpoint_state(\n",
    "    os.path.dirname(__file__)\n",
    "    )\n",
    "    \n",
    "    if checkpoint and checkpoint.model_checkpoint_path:\n",
    "        # Restore variables from checkpoint\n",
    "        saver.restore(sess,\n",
    "            checkpoint.model_checkpoint_path\n",
    "                     )\n",
    "        initial_step = int(\n",
    "            checkpoint.model_checkpoint_path.rsplit(\n",
    "            '-',1\n",
    "            )[1]\n",
    "        )\n",
    "    \n",
    "    # Do these operations only if no\n",
    "    # checkpoint was found\n",
    "    else:\n",
    "        # Initialize all variables and run\n",
    "        tf.global_variables_initializer().run()\n",
    "    \n",
    "        # Get inputs\n",
    "        X,y = inputs()\n",
    "    \n",
    "    # Get total loss\n",
    "    total_loss = loss(X,y)\n",
    "    \n",
    "    # Get training operation\n",
    "    train_op = train(total_loss)\n",
    "    \n",
    "    coord = tf.train.Coordinator()\n",
    "    threads = tf.train.start_queue_runners(\n",
    "    sess = sess,\n",
    "        coord = coord\n",
    "    )\n",
    "    \n",
    "    # Training loop\n",
    "    traincoord = tf.train.Coordinator()\n",
    "    threads = tf.train.start_queue_runners(\n",
    "    sess = sess,\n",
    "        coord = coord\n",
    "    )\n",
    "    ing_steps = 1000\n",
    "    for step in range(initial_step, training_steps):\n",
    "        sess.run([train_op])\n",
    "        # for debugging and learning purposes,\n",
    "        # see how the loss gets decremented \n",
    "        # during training steps\n",
    "        if step % 10 == 0:\n",
    "            print(\"loss: {}\".format(sess.run(\n",
    "                [total_loss]\n",
    "            )))\n",
    "        # Create checkpoint\n",
    "        if step % 1000 == 0:\n",
    "            saver.save(sess,\"my-model\",\n",
    "                      global_step=step\n",
    "                      )\n",
    "    # Evaluate the resulting model\n",
    "    evaluate(sess,X,y)\n",
    "    \n",
    "    coord.request_stop()\n",
    "    coord.join(threads)\n",
    "    saver.save(sess,\"my-model\",\n",
    "              global_step=training_steps)\n",
    "    sess.close()"
   ]
  },
  {
   "cell_type": "code",
   "execution_count": null,
   "metadata": {},
   "outputs": [],
   "source": []
  }
 ],
 "metadata": {
  "kernelspec": {
   "display_name": "Python 3",
   "language": "python",
   "name": "python3"
  },
  "language_info": {
   "codemirror_mode": {
    "name": "ipython",
    "version": 3
   },
   "file_extension": ".py",
   "mimetype": "text/x-python",
   "name": "python",
   "nbconvert_exporter": "python",
   "pygments_lexer": "ipython3",
   "version": "3.6.4"
  }
 },
 "nbformat": 4,
 "nbformat_minor": 2
}
