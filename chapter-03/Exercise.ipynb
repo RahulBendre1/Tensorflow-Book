{
 "cells": [
  {
   "cell_type": "code",
   "execution_count": 2,
   "metadata": {},
   "outputs": [],
   "source": [
    "# Import modules\n",
    "import tensorflow as tf\n",
    "import numpy as np"
   ]
  },
  {
   "cell_type": "code",
   "execution_count": 4,
   "metadata": {},
   "outputs": [],
   "source": [
    "# Reset graph\n",
    "tf.reset_default_graph()"
   ]
  },
  {
   "cell_type": "code",
   "execution_count": 8,
   "metadata": {},
   "outputs": [],
   "source": [
    "# Create a new graph\n",
    "graph = tf.Graph()\n",
    "\n",
    "# Set graph as default\n",
    "with graph.as_default():\n",
    "    # Create name scope \"variables\"\n",
    "    with tf.name_scope(\"variables\"):\n",
    "        # Variable to keep track how many times \n",
    "        # the graph is run\n",
    "        global_step = tf.Variable(0,\n",
    "                                 dtype=tf.int32,\n",
    "                                 trainable=False,\n",
    "                                  name=\"global_step\"\n",
    "                                 )\n",
    "        # Variable to keep track of total output\n",
    "        total_output = tf.Variable(0,\n",
    "                                  dtype=tf.float32,\n",
    "                                   trainable=False,\n",
    "                                   name=\"total_output\"\n",
    "                                  )\n",
    "    # Transformation operations\n",
    "    with tf.name_scope(\"transformations\"):\n",
    "        # Separate input layer\n",
    "        with tf.name_scope(\"input\"):\n",
    "            # Create input placeholder\n",
    "            # Takes in a vector\n",
    "            a = tf.placeholder(\n",
    "            tf.float32,\n",
    "                shape = [None],\n",
    "                name = \"input_a\"\n",
    "            )\n",
    "        # Separate middle layer\n",
    "        with tf.name_scope(\"intermediate\"):\n",
    "            b = tf.reduce_prod(a,\n",
    "                              name = \"product_b\")\n",
    "            c = tf.reduce_sum(a,\n",
    "                             name = \"sum_c\")\n",
    "        \n",
    "        # Separate output layer\n",
    "        with tf.name_scope(\"output\"):\n",
    "            output = tf.add(b,c,\n",
    "                           name = \"output\")\n",
    "    \n",
    "    # Update operations\n",
    "    with tf.name_scope(\"update\"):\n",
    "        # Increment total_output variable\n",
    "        update_total = total_output.assign_add(\n",
    "        output\n",
    "        )\n",
    "        update_step = global_step.assign_add(1)\n",
    "    \n",
    "    # Summary operations\n",
    "    with tf.name_scope(\"summary\"):\n",
    "        avg = tf.divide(\n",
    "        update_total, \n",
    "            tf.cast(update_step,tf.float32),\n",
    "            name = \"average\"\n",
    "        )\n",
    "        \n",
    "        # Create summaries for output node\n",
    "        tf.summary.scalar('output_summary',output)\n",
    "        tf.summary.scalar('total_summary',update_total)\n",
    "        tf.summary.scalar('average_summary',avg)\n",
    "        \n",
    "    # Global operations\n",
    "    with tf.name_scope(\"global_ops\"):\n",
    "        # Initialization op\n",
    "        init = tf.global_variables_initializer()\n",
    "        # Merge all summaries into one operation\n",
    "        merged_summaries = tf.summary.merge_all()"
   ]
  },
  {
   "cell_type": "code",
   "execution_count": 9,
   "metadata": {},
   "outputs": [],
   "source": [
    "# Start a Session, using the explicitly created Graph\n",
    "sess = tf.Session(graph=graph)\n",
    "\n",
    "# Open a SummaryWriter to save summaries\n",
    "writer = tf.summary.FileWriter('./improved_graph',graph)\n",
    "\n",
    "# Initialize Variables\n",
    "sess.run(init)"
   ]
  },
  {
   "cell_type": "code",
   "execution_count": 12,
   "metadata": {},
   "outputs": [],
   "source": [
    "def run_graph(input_tensor):\n",
    "    \"\"\"\n",
    "    Helper function; runs the graph with given input tensor and saves summaries\n",
    "    \"\"\"\n",
    "    feed_dict = {a: input_tensor}\n",
    "    out, step, summary = sess.run([output, update_step, merged_summaries], feed_dict=feed_dict)\n",
    "    writer.add_summary(summary, global_step=step)"
   ]
  },
  {
   "cell_type": "code",
   "execution_count": 13,
   "metadata": {},
   "outputs": [],
   "source": [
    "# Run the graph with various inputs\n",
    "run_graph([2,8])\n",
    "run_graph([3,1,3,3])\n",
    "run_graph([8])\n",
    "run_graph([1,2,3])\n",
    "run_graph([11,4])\n",
    "run_graph([4,1])\n",
    "run_graph([7,3,1])\n",
    "run_graph([6,3])\n",
    "run_graph([0,2])\n",
    "run_graph([4,5,6])"
   ]
  },
  {
   "cell_type": "code",
   "execution_count": 14,
   "metadata": {},
   "outputs": [],
   "source": [
    "# Write the summaries to disk\n",
    "writer.flush()\n"
   ]
  },
  {
   "cell_type": "code",
   "execution_count": 15,
   "metadata": {},
   "outputs": [],
   "source": [
    "# Close the SummaryWriter\n",
    "writer.close()"
   ]
  },
  {
   "cell_type": "code",
   "execution_count": 16,
   "metadata": {},
   "outputs": [],
   "source": [
    "# Close the session\n",
    "sess.close()"
   ]
  },
  {
   "cell_type": "markdown",
   "metadata": {},
   "source": [
    "To start TensorBoard after running this code, run the following command:\n",
    "\n",
    "`tensorboard --logdir='./improved_graph'`"
   ]
  },
  {
   "cell_type": "code",
   "execution_count": null,
   "metadata": {},
   "outputs": [],
   "source": []
  }
 ],
 "metadata": {
  "kernelspec": {
   "display_name": "Python 3",
   "language": "python",
   "name": "python3"
  },
  "language_info": {
   "codemirror_mode": {
    "name": "ipython",
    "version": 3
   },
   "file_extension": ".py",
   "mimetype": "text/x-python",
   "name": "python",
   "nbconvert_exporter": "python",
   "pygments_lexer": "ipython3",
   "version": "3.6.4"
  }
 },
 "nbformat": 4,
 "nbformat_minor": 2
}
