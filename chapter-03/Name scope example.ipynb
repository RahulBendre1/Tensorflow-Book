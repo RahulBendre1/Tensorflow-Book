{
 "cells": [
  {
   "cell_type": "code",
   "execution_count": 1,
   "metadata": {},
   "outputs": [],
   "source": [
    "# Import modueles\n",
    "import tensorflow as tf"
   ]
  },
  {
   "cell_type": "code",
   "execution_count": 2,
   "metadata": {},
   "outputs": [],
   "source": [
    "# Reset graph\n",
    "tf.reset_default_graph()"
   ]
  },
  {
   "cell_type": "code",
   "execution_count": 3,
   "metadata": {},
   "outputs": [],
   "source": [
    "# Create name scope\n",
    "with tf.name_scope(\"scope_1\"):\n",
    "    a = tf.add(1,2,name=\"add_a\")\n",
    "    b = tf.multiply(a,3,name=\"mul_b\")\n",
    "\n",
    "# Create another name scope\n",
    "with tf.name_scope(\"scope_2\"):\n",
    "    c = tf.add(4,5,name=\"add_c\")\n",
    "    d = tf.multiply(c,6,name=\"mul_d\")\n",
    "\n",
    "e = tf.add(b,d,name=\"output\")"
   ]
  },
  {
   "cell_type": "code",
   "execution_count": 4,
   "metadata": {},
   "outputs": [],
   "source": [
    "# Create summary writer\n",
    "writer = tf.summary.FileWriter(\"./name_scope1\",\n",
    "                              graph = tf.get_default_graph()\n",
    "                              )"
   ]
  },
  {
   "cell_type": "code",
   "execution_count": 5,
   "metadata": {},
   "outputs": [],
   "source": [
    "# Close writer\n",
    "writer.close()"
   ]
  },
  {
   "cell_type": "code",
   "execution_count": 6,
   "metadata": {},
   "outputs": [],
   "source": [
    "# Create a new graph\n",
    "graph = tf.Graph()\n",
    "\n",
    "with graph.as_default():\n",
    "    # Create input scalars\n",
    "    in_1 = tf.placeholder(tf.float32,shape=[],\n",
    "                         name=\"input_a\")\n",
    "    in_2 = tf.placeholder(tf.float32,shape=[],\n",
    "                         name=\"input_b\")\n",
    "    const = tf.constant(3, dtype=tf.float32,\n",
    "                       name=\"static_value\")\n",
    "    \n",
    "    with tf.name_scope(\"Transformation\"):\n",
    "        with tf.name_scope(\"A\"):\n",
    "            A_mul = tf.multiply(in_1,const)\n",
    "            A_out = tf.subtract(A_mul,in_1)\n",
    "    \n",
    "        with tf.name_scope(\"B\"):\n",
    "            B_mul = tf.multiply(in_2,const)\n",
    "            B_out = tf.subtract(B_mul,in_2)\n",
    "        \n",
    "        with tf.name_scope(\"C\"):\n",
    "            C_div = tf.divide(A_out,B_out)\n",
    "            C_out = tf.add(C_div,const)\n",
    "        \n",
    "        with tf.name_scope(\"D\"):\n",
    "            D_div = tf.divide(B_out,A_out)\n",
    "            D_out = tf.add(D_div,const)\n",
    "        \n",
    "    out = tf.maximum(C_out,D_out)"
   ]
  },
  {
   "cell_type": "code",
   "execution_count": 7,
   "metadata": {},
   "outputs": [],
   "source": [
    "# Create summary writer\n",
    "writer = tf.summary.FileWriter(\"./name_scope2\",\n",
    "                              graph = graph\n",
    "                              )"
   ]
  },
  {
   "cell_type": "code",
   "execution_count": 8,
   "metadata": {},
   "outputs": [],
   "source": [
    "# Close the writer\n",
    "writer.close()"
   ]
  },
  {
   "cell_type": "markdown",
   "metadata": {},
   "source": [
    "To start TensorBoard after running this file, execute the following command:\n",
    "\n",
    "*For Example 1*\n",
    "\n",
    "`tensorboard --logdir='./name_scope_1'`\n",
    "\n",
    "*For Example 2*\n",
    "\n",
    "`tensorboard --logdir='./name_scope_2'`"
   ]
  },
  {
   "cell_type": "code",
   "execution_count": null,
   "metadata": {},
   "outputs": [],
   "source": []
  }
 ],
 "metadata": {
  "kernelspec": {
   "display_name": "Python 3",
   "language": "python",
   "name": "python3"
  },
  "language_info": {
   "codemirror_mode": {
    "name": "ipython",
    "version": 3
   },
   "file_extension": ".py",
   "mimetype": "text/x-python",
   "name": "python",
   "nbconvert_exporter": "python",
   "pygments_lexer": "ipython3",
   "version": "3.6.4"
  }
 },
 "nbformat": 4,
 "nbformat_minor": 2
}
